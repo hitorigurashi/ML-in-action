{
 "cells": [
  {
   "cell_type": "code",
   "execution_count": 1,
   "metadata": {},
   "outputs": [],
   "source": [
    "import math\n",
    "import operator\n",
    "import matplotlib.pyplot as plt"
   ]
  },
  {
   "cell_type": "code",
   "execution_count": 2,
   "metadata": {},
   "outputs": [],
   "source": [
    "#计算信息熵\n",
    "def clacShannonEnt(dataSet):\n",
    "    numEntries = len(dataSet)\n",
    "    labelCnt = {}\n",
    "    for featVec in dataSet:\n",
    "        tmpLabel = featVec[-1]\n",
    "        if tmpLabel not in labelCnt.keys():\n",
    "            labelCnt[tmpLabel] = 0\n",
    "        labelCnt[tmpLabel] += 1\n",
    "    entropy = 0.0\n",
    "    for key in labelCnt:\n",
    "        prob = float(labelCnt[key])/numEntries\n",
    "        entropy -= prob * math.log(prob, 2)\n",
    "    return entropy"
   ]
  },
  {
   "cell_type": "code",
   "execution_count": 3,
   "metadata": {},
   "outputs": [
    {
     "name": "stdout",
     "output_type": "stream",
     "text": [
      "0.9709505944546686\n"
     ]
    }
   ],
   "source": [
    "#计算信息熵小测试\n",
    "def createDataSet():\n",
    "    dataSet = [[1, 1, 'yes'],\n",
    "               [1, 1, 'yes'],\n",
    "               [1, 0, 'no'],\n",
    "               [0, 1, 'no'],\n",
    "               [0, 1, 'no']]\n",
    "    labels = ['no surfacing','flippers']\n",
    "    return dataSet, labels\n",
    "data, label = createDataSet()\n",
    "print(clacShannonEnt(data))"
   ]
  },
  {
   "cell_type": "code",
   "execution_count": 4,
   "metadata": {},
   "outputs": [],
   "source": [
    "#分割数据集\n",
    "#dataSet 数据集\n",
    "#axis 第几列\n",
    "#value  要对比的值\n",
    "def splitDataSet(dataSet, axis, value):\n",
    "    ret = []\n",
    "    for data in dataSet:\n",
    "        if data[axis] == value:\n",
    "            tmpVec = data[:axis]\n",
    "            tmpVec.extend(data[axis+1:])\n",
    "            ret.append(tmpVec)\n",
    "    return ret"
   ]
  },
  {
   "cell_type": "code",
   "execution_count": 5,
   "metadata": {},
   "outputs": [
    {
     "name": "stdout",
     "output_type": "stream",
     "text": [
      "[[1, 'yes'], [1, 'yes'], [0, 'no']]\n",
      "[[1, 1], [1, 1]]\n"
     ]
    }
   ],
   "source": [
    "#分割数据集测试\n",
    "print(splitDataSet(data,0,1))\n",
    "print(splitDataSet(data,2,'yes'))"
   ]
  },
  {
   "cell_type": "code",
   "execution_count": 6,
   "metadata": {},
   "outputs": [],
   "source": [
    "#信息增益\n",
    "#选择最好的决策点，基于信息增益来选择\n",
    "def chooseBestFeatureToSplit(dataSet):\n",
    "    numFeatures = len(dataSet[0]) - 1\n",
    "    baseEntropy = clacShannonEnt(dataSet)\n",
    "    bestInfoGain = 0.0\n",
    "    bestFeature = -1\n",
    "    \n",
    "    for i in range(numFeatures):\n",
    "        featList = [data[i] for data in dataSet]   #记录每列上的值\n",
    "        uniqueVals = set(featList)    #将该列上面的值unique\n",
    "        tmpEntropy = 0.0\n",
    "        for value in uniqueVals:         #计算该列上面某一个特征值的信息熵\n",
    "            subDataSet = splitDataSet(dataSet, i, value)\n",
    "            prob = len(subDataSet)/float(len(dataSet))\n",
    "            tmpEntropy += prob * clacShannonEnt(subDataSet)\n",
    "        infoGain = baseEntropy - tmpEntropy\n",
    "        if(infoGain > bestInfoGain):\n",
    "            bestInfoGain = infoGain\n",
    "            bestFeature = i\n",
    "    return bestFeature"
   ]
  },
  {
   "cell_type": "code",
   "execution_count": 7,
   "metadata": {},
   "outputs": [],
   "source": [
    "#返回出现次数最多的\n",
    "def majorityCnt(classList):\n",
    "    classCnt = {}\n",
    "    for vote in classList:\n",
    "        if vote not in classCnt.keys():\n",
    "            classCnt[vote] = 0\n",
    "        classCnt[vote] += 1\n",
    "    sortedClassCnt = sorted(classCount.items(),key=operator.itemgetter(1),reverse=True)\n",
    "    return sortedClassCnt[0][0]"
   ]
  },
  {
   "cell_type": "code",
   "execution_count": 8,
   "metadata": {},
   "outputs": [],
   "source": [
    "#递归创建决策树\n",
    "def createTree(dataSet, labels):\n",
    "    classList = [data[-1] for data in dataSet]\n",
    "    if  classList.count(classList[0]) == len(classList):\n",
    "        return classList[0]\n",
    "    if len(dataSet[0]) == 1:\n",
    "        return majorityCnt(classList)\n",
    "    \n",
    "    bestFeat = chooseBestFeatureToSplit(dataSet)\n",
    "    bestFeatLabel = labels[bestFeat]\n",
    "#     print(bestFeatLabel)\n",
    "    myTree = {bestFeatLabel:{}}\n",
    "    del(labels[bestFeat])\n",
    "    featValues = [data[bestFeat] for data in dataSet]\n",
    "    uniqueVals = set(featValues)\n",
    "    for val in uniqueVals:\n",
    "        subLabels = labels[:]\n",
    "        myTree[bestFeatLabel][val] = createTree(splitDataSet(dataSet, bestFeat, val), subLabels)\n",
    "    return myTree"
   ]
  },
  {
   "cell_type": "code",
   "execution_count": 9,
   "metadata": {},
   "outputs": [
    {
     "name": "stdout",
     "output_type": "stream",
     "text": [
      "{'no surfacing': {0: 'no', 1: {'flippers': {0: 'no', 1: 'yes'}}}}\n"
     ]
    }
   ],
   "source": [
    "#创建决策树小测试\n",
    "decisionTree = createTree(data, label)\n",
    "print(decisionTree)"
   ]
  },
  {
   "cell_type": "code",
   "execution_count": 10,
   "metadata": {},
   "outputs": [],
   "source": [
    "#predict\n",
    "#inputTree ：生成好的决策树\n",
    "#featLabels ： 标签\n",
    "#testVec ： 测试向量\n",
    "def classify(inputTree, featLabels, testVec):\n",
    "    firstStr = list(inputTree.keys())[0]\n",
    "    secondDict = inputTree[firstStr]\n",
    "    featIndex = featLabels.index(firstStr)\n",
    "    for key in secondDict.keys():\n",
    "        if testVec[featIndex] == key:\n",
    "            if type(secondDict[key]).__name__ == 'dict':\n",
    "                print(secondDict)\n",
    "                classLabel = classify(secondDict[key], featLabels, testVec)\n",
    "            else:\n",
    "                print(secondDict)\n",
    "                classLabel = secondDict[key]\n",
    "    return classLabel"
   ]
  },
  {
   "cell_type": "code",
   "execution_count": 11,
   "metadata": {},
   "outputs": [
    {
     "name": "stdout",
     "output_type": "stream",
     "text": [
      "{0: 'no', 1: {'flippers': {0: 'no', 1: 'yes'}}}\n",
      "{0: 'no', 1: 'yes'}\n"
     ]
    },
    {
     "data": {
      "text/plain": [
       "'no'"
      ]
     },
     "execution_count": 11,
     "metadata": {},
     "output_type": "execute_result"
    }
   ],
   "source": [
    "data, label = createDataSet()\n",
    "classify(decisionTree, label, [1, 0])"
   ]
  },
  {
   "cell_type": "code",
   "execution_count": null,
   "metadata": {},
   "outputs": [],
   "source": []
  }
 ],
 "metadata": {
  "kernelspec": {
   "display_name": "Python 3",
   "language": "python",
   "name": "python3"
  },
  "language_info": {
   "codemirror_mode": {
    "name": "ipython",
    "version": 3
   },
   "file_extension": ".py",
   "mimetype": "text/x-python",
   "name": "python",
   "nbconvert_exporter": "python",
   "pygments_lexer": "ipython3",
   "version": "3.6.7"
  }
 },
 "nbformat": 4,
 "nbformat_minor": 2
}
