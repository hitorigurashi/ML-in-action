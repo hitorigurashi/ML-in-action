{
 "cells": [
  {
   "cell_type": "code",
   "execution_count": 1,
   "metadata": {},
   "outputs": [],
   "source": [
    "import numpy as np"
   ]
  },
  {
   "cell_type": "code",
   "execution_count": 2,
   "metadata": {},
   "outputs": [],
   "source": [
    "def loadExData():\n",
    "    return [[4, 4, 0, 2, 2],\n",
    "            [4, 0, 0, 3, 3],\n",
    "            [4, 0, 0, 1, 1],\n",
    "            [1, 1, 1, 0, 0],\n",
    "            [2, 2, 2, 0, 0],\n",
    "            [5, 5, 5, 0, 0],\n",
    "            [1, 1, 1, 0, 0]]\n",
    "\n",
    "\n",
    "def loadExData2():\n",
    "    return [[0, 0, 0, 0, 0, 4, 0, 0, 0, 0, 5],\n",
    "            [0, 0, 0, 3, 0, 4, 0, 0, 0, 0, 3],\n",
    "            [0, 0, 0, 0, 4, 0, 0, 1, 0, 4, 0],\n",
    "            [3, 3, 4, 0, 0, 0, 0, 2, 2, 0, 0],\n",
    "            [5, 4, 5, 0, 0, 0, 0, 5, 5, 0, 0],\n",
    "            [0, 0, 0, 0, 5, 0, 1, 0, 0, 5, 0],\n",
    "            [4, 3, 4, 0, 0, 0, 0, 5, 5, 0, 1],\n",
    "            [0, 0, 0, 4, 0, 4, 0, 0, 0, 0, 4],\n",
    "            [0, 0, 0, 2, 0, 2, 5, 0, 0, 1, 2],\n",
    "            [0, 0, 0, 0, 5, 0, 0, 0, 0, 4, 0],\n",
    "            [1, 0, 0, 0, 0, 0, 0, 1, 2, 0, 0]]"
   ]
  },
  {
   "cell_type": "code",
   "execution_count": 3,
   "metadata": {},
   "outputs": [],
   "source": [
    "def euclidSim(x, y):\n",
    "    return 1.0/(1.0+np.linalg.norm(x - y))"
   ]
  },
  {
   "cell_type": "code",
   "execution_count": 4,
   "metadata": {},
   "outputs": [],
   "source": [
    "def pearsSim(x, y):\n",
    "    if len(x) < 3:\n",
    "        return 1.0\n",
    "    return 0.5 + 0.5 * np.corrcoef()(x, y, rowvar = 0)[0][1]"
   ]
  },
  {
   "cell_type": "code",
   "execution_count": 5,
   "metadata": {},
   "outputs": [],
   "source": [
    "def cosSim(x, y):\n",
    "    num = float(x.T * y)\n",
    "    denom = np.linalg.norm(x) * np.linalg.norm(y)\n",
    "    return 0.5 + 0.5 * (num/denom)"
   ]
  },
  {
   "cell_type": "code",
   "execution_count": 6,
   "metadata": {},
   "outputs": [],
   "source": [
    "#item ：user未评分的物品\n",
    "def standEst(data, user, simMeans, item):\n",
    "    n = np.shape(data)[1]\n",
    "    simTotal = 0.0\n",
    "    ratSimTotal = 0.0\n",
    "    for j in range(n):\n",
    "        uRating = data[user, j]\n",
    "        if uRating == 0:\n",
    "            continue\n",
    "        #寻找到用户评分过的商品\n",
    "        #找出未评分商品item与评分过商品j之间各个用户都对两者打过分的重叠部分\n",
    "        overlap = np.nonzero(np.logical_and(data[:, item].A > 0, data[:, j].A > 0))[0]\n",
    "        if len(overlap) == 0:\n",
    "            similarity = 0\n",
    "        else:\n",
    "            #对重叠部分进行相似度计算\n",
    "            similarity = simMeans(data[overlap, item], data[overlap,j])\n",
    "        print('the %d and %d similarity is : %f'%(item, j, similarity))\n",
    "        #item与评分过的各个商品之间的相似度累加\n",
    "        simTotal += similarity\n",
    "        #累计权重后的评分总和\n",
    "        ratSimTotal += similarity * uRating\n",
    "    if simTotal == 0:\n",
    "        return 0\n",
    "    else:\n",
    "        return ratSimTotal / simTotal"
   ]
  },
  {
   "cell_type": "code",
   "execution_count": 7,
   "metadata": {},
   "outputs": [],
   "source": [
    "#为指定的用户推荐物品\n",
    "def recommend(data, user, N=3, simMeans = cosSim, estMethod=standEst):\n",
    "    #找出用户未评分的商品\n",
    "    unratedItems = np.nonzero(data[user,:].A == 0)[1]\n",
    "    if len(unratedItems) == 0:\n",
    "        return ('you rated everything')\n",
    "    itemScores = []\n",
    "    #遍历为评分的商品\n",
    "    for item in unratedItems:\n",
    "        #为未评分的商品进行相似度评分\n",
    "        estimatedScore = estMethod(data, user, simMeans, item)\n",
    "        itemScores.append((item, estimatedScore))\n",
    "    #返回最高的前N个\n",
    "    return sorted(itemScores, key=lambda jj : jj[1], reverse=True)[:N]"
   ]
  },
  {
   "cell_type": "code",
   "execution_count": 8,
   "metadata": {},
   "outputs": [],
   "source": [
    "data = np.mat(loadExData())"
   ]
  },
  {
   "cell_type": "code",
   "execution_count": 9,
   "metadata": {},
   "outputs": [
    {
     "name": "stdout",
     "output_type": "stream",
     "text": [
      "the 1 and 0 similarity is : 1.000000\n",
      "the 1 and 3 similarity is : 1.000000\n",
      "the 1 and 4 similarity is : 1.000000\n",
      "the 2 and 0 similarity is : 1.000000\n",
      "the 2 and 3 similarity is : 0.000000\n",
      "the 2 and 4 similarity is : 0.000000\n"
     ]
    },
    {
     "data": {
      "text/plain": [
       "[(2, 4.0), (1, 2.0)]"
      ]
     },
     "execution_count": 9,
     "metadata": {},
     "output_type": "execute_result"
    }
   ],
   "source": [
    "recommend(data, 2)"
   ]
  },
  {
   "cell_type": "code",
   "execution_count": 10,
   "metadata": {},
   "outputs": [],
   "source": [
    "def svdEst(data, user, simMeans, item):\n",
    "    n = np.shape(data)[1]\n",
    "    simTotal = 0.0\n",
    "    ratSimTotal = 0.0\n",
    "    U, sigma, vt = np.linalg.svd(data)\n",
    "    sig4 = np.mat(np.eye(4) * sigma[:4])\n",
    "    #利用U矩阵将物品转换到低维空间\n",
    "    itemMat = data.T * U[:,:4] * sig4.I\n",
    "    for j in range(n):\n",
    "        uRating = data[user, j]\n",
    "        if uRating == 0 or j == item:\n",
    "            continue\n",
    "        similarity = simMeans(itemMat[item,:].T, itemMat[j,:].T)\n",
    "        print('the %d and %d similarity is: %f'%(item, j, similarity))\n",
    "        simTotal += similarity\n",
    "        ratSimTotal += similarity * uRating\n",
    "    if simTotal == 0:\n",
    "        return 0\n",
    "    else:\n",
    "        return ratSimTotal/simTotal"
   ]
  },
  {
   "cell_type": "code",
   "execution_count": 11,
   "metadata": {},
   "outputs": [],
   "source": [
    "data = np.mat(loadExData2())"
   ]
  },
  {
   "cell_type": "code",
   "execution_count": 12,
   "metadata": {},
   "outputs": [
    {
     "name": "stdout",
     "output_type": "stream",
     "text": [
      "the 0 and 3 similarity is: 0.490950\n",
      "the 0 and 5 similarity is: 0.484274\n",
      "the 0 and 10 similarity is: 0.512755\n",
      "the 1 and 3 similarity is: 0.491294\n",
      "the 1 and 5 similarity is: 0.481516\n",
      "the 1 and 10 similarity is: 0.509709\n",
      "the 2 and 3 similarity is: 0.491573\n",
      "the 2 and 5 similarity is: 0.482346\n",
      "the 2 and 10 similarity is: 0.510584\n",
      "the 4 and 3 similarity is: 0.450495\n",
      "the 4 and 5 similarity is: 0.506795\n",
      "the 4 and 10 similarity is: 0.512896\n",
      "the 6 and 3 similarity is: 0.743699\n",
      "the 6 and 5 similarity is: 0.468366\n",
      "the 6 and 10 similarity is: 0.439465\n",
      "the 7 and 3 similarity is: 0.482175\n",
      "the 7 and 5 similarity is: 0.494716\n",
      "the 7 and 10 similarity is: 0.524970\n",
      "the 8 and 3 similarity is: 0.491307\n",
      "the 8 and 5 similarity is: 0.491228\n",
      "the 8 and 10 similarity is: 0.520290\n",
      "the 9 and 3 similarity is: 0.522379\n",
      "the 9 and 5 similarity is: 0.496130\n",
      "the 9 and 10 similarity is: 0.493617\n"
     ]
    },
    {
     "data": {
      "text/plain": [
       "[(4, 3.344714938469228), (7, 3.329402072452697), (9, 3.328100876390069)]"
      ]
     },
     "execution_count": 12,
     "metadata": {},
     "output_type": "execute_result"
    }
   ],
   "source": [
    "recommend(data, 1, estMethod=svdEst)"
   ]
  },
  {
   "cell_type": "code",
   "execution_count": null,
   "metadata": {},
   "outputs": [],
   "source": []
  },
  {
   "cell_type": "code",
   "execution_count": 13,
   "metadata": {},
   "outputs": [],
   "source": [
    "#对第二个矩阵进行奇异值分解后，取tmp\n",
    "#tmp的每一行对应物品\n",
    "u, sigma, vt = np.linalg.svd(data)\n",
    "sig4 = np.mat(np.eye(4) * sigma[:4])\n",
    "tmp = data.T * u[:,:4]*sig4.I"
   ]
  },
  {
   "cell_type": "code",
   "execution_count": 20,
   "metadata": {},
   "outputs": [
    {
     "data": {
      "text/plain": [
       "matrix([[-0.45137416,  0.03084799, -0.00290108,  0.01189185],\n",
       "        [-0.36239706,  0.02584428, -0.00189127,  0.01348796],\n",
       "        [-0.46879252,  0.03296133, -0.00281253,  0.01656192],\n",
       "        [-0.01007685, -0.34024331, -0.22728592,  0.14546051],\n",
       "        [-0.01567036, -0.38750193,  0.61197998, -0.17137451],\n",
       "        [-0.01664563, -0.52000097, -0.3608907 , -0.14984063],\n",
       "        [-0.00474684, -0.18887149, -0.00924222,  0.94228361],\n",
       "        [-0.46712774,  0.00389831,  0.03349951, -0.02080674],\n",
       "        [-0.47223188,  0.02853952, -0.00504059,  0.00160266],\n",
       "        [-0.01591788, -0.39205093,  0.55707516,  0.04356321],\n",
       "        [-0.0552444 , -0.52034959, -0.36330956, -0.19023805]])"
      ]
     },
     "execution_count": 20,
     "metadata": {},
     "output_type": "execute_result"
    }
   ],
   "source": [
    "tmp"
   ]
  },
  {
   "cell_type": "code",
   "execution_count": 21,
   "metadata": {},
   "outputs": [
    {
     "data": {
      "text/plain": [
       "matrix([[-0.02173672, -0.41043862, -0.29555566, -0.31993924],\n",
       "        [-0.01664767, -0.40868796, -0.29149768, -0.15138979],\n",
       "        [-0.03763173, -0.27302481,  0.4269746 , -0.10978297],\n",
       "        [-0.3928286 ,  0.03215633,  0.00283676,  0.02145489],\n",
       "        [-0.68146521,  0.05125169,  0.00962441,  0.02067521],\n",
       "        [-0.01031581, -0.35826614,  0.52908411,  0.06256753],\n",
       "        [-0.60364271, -0.00222591, -0.02262313, -0.02723249],\n",
       "        [-0.02078959, -0.4841342 , -0.34503998, -0.16062914],\n",
       "        [-0.01290907, -0.35922701, -0.12620599,  0.9008227 ],\n",
       "        [-0.00900549, -0.30733798,  0.47941858, -0.14085095],\n",
       "        [-0.11812788,  0.00805012,  0.00186006, -0.00117811]])"
      ]
     },
     "execution_count": 21,
     "metadata": {},
     "output_type": "execute_result"
    }
   ],
   "source": [
    "u[:,:4]"
   ]
  },
  {
   "cell_type": "code",
   "execution_count": 22,
   "metadata": {},
   "outputs": [
    {
     "data": {
      "text/plain": [
       "matrix([[15.77075346,  0.        ,  0.        ,  0.        ],\n",
       "        [ 0.        , 11.40670395,  0.        ,  0.        ],\n",
       "        [ 0.        ,  0.        , 11.03044558,  0.        ],\n",
       "        [ 0.        ,  0.        ,  0.        ,  4.84639758]])"
      ]
     },
     "execution_count": 22,
     "metadata": {},
     "output_type": "execute_result"
    }
   ],
   "source": [
    "sig4"
   ]
  },
  {
   "cell_type": "code",
   "execution_count": null,
   "metadata": {},
   "outputs": [],
   "source": []
  }
 ],
 "metadata": {
  "kernelspec": {
   "display_name": "Python 3",
   "language": "python",
   "name": "python3"
  },
  "language_info": {
   "codemirror_mode": {
    "name": "ipython",
    "version": 3
   },
   "file_extension": ".py",
   "mimetype": "text/x-python",
   "name": "python",
   "nbconvert_exporter": "python",
   "pygments_lexer": "ipython3",
   "version": "3.6.7"
  }
 },
 "nbformat": 4,
 "nbformat_minor": 2
}
