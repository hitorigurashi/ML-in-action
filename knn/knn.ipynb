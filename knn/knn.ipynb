{
 "cells": [
  {
   "cell_type": "code",
   "execution_count": 1,
   "metadata": {},
   "outputs": [],
   "source": [
    "import numpy as np\n",
    "import operator"
   ]
  },
  {
   "cell_type": "code",
   "execution_count": 2,
   "metadata": {},
   "outputs": [],
   "source": [
    "#分类函数\n",
    "#testData 测试向量\n",
    "#dataSet 训练数据集\n",
    "#label    训练标签\n",
    "#k       knn的k值选定\n",
    "def classify0(testData, dataSet, label, k):\n",
    "    dataSize = dataSet.shape[0]\n",
    "    diffMat = np.tile(testData, (dataSize, 1)) - dataSet\n",
    "    sqDiff = diffMat**2\n",
    "    sqDiffSum = sqDiff.sum(axis=1)\n",
    "    distance = sqDiffSum**0.5\n",
    "    sortIndex = distance.argsort()\n",
    "    classCnt = {}\n",
    "    for i in range(k):\n",
    "        vote = label[sortIndex[i]]\n",
    "        classCnt[vote] = classCnt.get(vote, 0) + 1\n",
    "    sortClassCnt = sorted(classCnt.items(), key=operator.itemgetter(1), reverse=True)\n",
    "#     print(sortClassCnt)\n",
    "    return sortClassCnt[0][0]"
   ]
  },
  {
   "cell_type": "code",
   "execution_count": 3,
   "metadata": {},
   "outputs": [],
   "source": [
    "#自定义训练数据\n",
    "dataSet = np.array([\n",
    "    [1.0, 1.1],\n",
    "    [1.0, 1.1],\n",
    "    [0, 0],\n",
    "    [0, 0.1]\n",
    "])\n",
    "\n",
    "label = ['a', 'a', 'b', 'b']"
   ]
  },
  {
   "cell_type": "code",
   "execution_count": 4,
   "metadata": {},
   "outputs": [
    {
     "data": {
      "text/plain": [
       "'b'"
      ]
     },
     "execution_count": 4,
     "metadata": {},
     "output_type": "execute_result"
    }
   ],
   "source": [
    "#测试分类函数\n",
    "classify0([0.1,0.1], dataSet, label, 3)"
   ]
  },
  {
   "cell_type": "code",
   "execution_count": 5,
   "metadata": {},
   "outputs": [],
   "source": [
    "#约会网站数据\n",
    "#将文件中的数据转为矩阵\n",
    "def file2matrix(filename):\n",
    "    fr = open(filename)\n",
    "    arrayOfLine = fr.readlines()\n",
    "    numOfLine = len(arrayOfLine)\n",
    "    returnMat = np.zeros((numOfLine, 3))\n",
    "    classLabelVector = []\n",
    "    index = 0\n",
    "    for line in arrayOfLine:\n",
    "        line = line.strip()\n",
    "        lineForm = line.split('\\t')\n",
    "        returnMat[index, :] = lineForm[0:3]\n",
    "        classLabelVector.append(int(line[-1]))\n",
    "        index += 1\n",
    "    return returnMat, classLabelVector"
   ]
  },
  {
   "cell_type": "code",
   "execution_count": 6,
   "metadata": {},
   "outputs": [],
   "source": [
    "#normaliz\n",
    "def autoNorm(dataSet):\n",
    "    minVals = dataSet.min(0)\n",
    "    maxVals = dataSet.max(0)\n",
    "    ranges = maxVals - minVals\n",
    "    normDataSet = np.zeros(np.shape(dataSet))\n",
    "    m = dataSet.shape[0]\n",
    "    normDataSet = dataSet - np.tile(minVals, (m, 1))\n",
    "    normDataSet = normDataSet / np.tile(ranges, (m, 1))\n",
    "    return normDataSet, ranges, minVals"
   ]
  },
  {
   "cell_type": "code",
   "execution_count": 7,
   "metadata": {},
   "outputs": [],
   "source": [
    "#test\n",
    "def datingClassTest():\n",
    "    hoRatio = 0.1\n",
    "    datingDataMat, datingLabels = file2matrix('datingTestSet2.txt')\n",
    "    normMat, ranges, minVals = autoNorm(datingDataMat)\n",
    "    m = normMat.shape[0]\n",
    "    numTestVecs = int(m*hoRatio)\n",
    "    errorCount = 0.0\n",
    "    for i in range(numTestVecs):\n",
    "        classifierResult = classify0(normMat[i,:], normMat[numTestVecs:m,:], datingLabels[numTestVecs:m], 3)\n",
    "        if classifierResult != datingLabels[i]:\n",
    "            print(\"the classifier came back with: %d, the real answer is: %d\"%(classifierResult, datingLabels[i]))"
   ]
  },
  {
   "cell_type": "code",
   "execution_count": 8,
   "metadata": {},
   "outputs": [
    {
     "name": "stdout",
     "output_type": "stream",
     "text": [
      "the classifier came back with: 3, the real answer is: 2\n",
      "the classifier came back with: 3, the real answer is: 1\n",
      "the classifier came back with: 3, the real answer is: 1\n",
      "the classifier came back with: 2, the real answer is: 3\n",
      "the classifier came back with: 3, the real answer is: 1\n"
     ]
    }
   ],
   "source": [
    "#预测错误的值\n",
    "datingClassTest()"
   ]
  },
  {
   "cell_type": "code",
   "execution_count": 9,
   "metadata": {},
   "outputs": [],
   "source": [
    "#给定数据来预测\n",
    "def classifyPerson():\n",
    "    resultList = ['not at all', 'in small doses', 'in large doses']\n",
    "    percentTats = float(input(\"percentage of time spent playing video games ?\"))\n",
    "    ffMiles = float(input(\"frequent flier miles earned per year ?\"))\n",
    "    iceCream = float(input(\"liters of inc cream consumed per year?\"))\n",
    "    datingDataMat, datingLabels = file2matrix('datingTestSet2.txt')\n",
    "    normMat, ranges, minVals = autoNorm(datingDataMat)\n",
    "    inArr = np.array([ffMiles, percentTats, iceCream])\n",
    "    classifierResult = classify0((inArr - minVals)/ranges, normMat, datingLabels, 3)\n",
    "    print(classifierResult)\n",
    "    print(\"you will probably like this person :\", resultList[classifierResult-1])"
   ]
  },
  {
   "cell_type": "code",
   "execution_count": 10,
   "metadata": {},
   "outputs": [
    {
     "name": "stdout",
     "output_type": "stream",
     "text": [
      "percentage of time spent playing video games ?10\n",
      "frequent flier miles earned per year ?40000\n",
      "liters of inc cream consumed per year?1\n",
      "3\n",
      "you will probably like this person : in large doses\n"
     ]
    }
   ],
   "source": [
    "classifyPerson()"
   ]
  },
  {
   "cell_type": "code",
   "execution_count": 11,
   "metadata": {},
   "outputs": [
    {
     "name": "stdout",
     "output_type": "stream",
     "text": [
      "percentage of time spent playing video games ?10\n",
      "frequent flier miles earned per year ?10000\n",
      "liters of inc cream consumed per year?6\n",
      "2\n",
      "you will probably like this person : in small doses\n"
     ]
    }
   ],
   "source": [
    "classifyPerson()"
   ]
  },
  {
   "cell_type": "code",
   "execution_count": 12,
   "metadata": {},
   "outputs": [
    {
     "name": "stdout",
     "output_type": "stream",
     "text": [
      "percentage of time spent playing video games ?1.4\n",
      "frequent flier miles earned per year ?26000\n",
      "liters of inc cream consumed per year?0.8\n",
      "1\n",
      "you will probably like this person : not at all\n"
     ]
    }
   ],
   "source": [
    "classifyPerson()"
   ]
  },
  {
   "cell_type": "code",
   "execution_count": 13,
   "metadata": {},
   "outputs": [],
   "source": [
    "#handwriting number\n",
    "def img2vector(filename):\n",
    "    returnVect = np.zeros((1, 1024))\n",
    "    fr = open(filename)\n",
    "    for i in range(32):\n",
    "        lineStr = fr.readline()\n",
    "        for j in range(32):\n",
    "            returnVect[0, 32*i+j] = int(lineStr[j])\n",
    "    return returnVect"
   ]
  },
  {
   "cell_type": "code",
   "execution_count": 14,
   "metadata": {},
   "outputs": [],
   "source": [
    "import os\n",
    "import sys\n",
    "def handwritingClassTest():\n",
    "    hwLabels = []\n",
    "    trainingList = os.listdir('trainingDigits')\n",
    "    m = len(trainingList)\n",
    "    trainingMat = np.zeros((m, 1024))\n",
    "    for i in range(m):\n",
    "        fileNameStr = trainingList[i]\n",
    "        fileStr = fileNameStr.split('.')[0] #获取文件名\n",
    "        classNumStr = int(fileStr.split('_')[0])   #获取类别\n",
    "        hwLabels.append(classNumStr)\n",
    "        trainingMat[i, :] = img2vector('trainingDigits/%s'%fileNameStr)  #获取特征值\n",
    "    \n",
    "    testList = os.listdir('testDigits')\n",
    "    errorCnt = 0.0\n",
    "    mTest = len(testList)\n",
    "    for i in range(mTest):\n",
    "        fileNameStr = testList[i]\n",
    "        fileStr = fileNameStr.split('.')[0]\n",
    "        classNumStr = int(fileStr.split('_')[0])\n",
    "        testData = img2vector('testDigits/%s'%fileNameStr)\n",
    "        res = classify0(testData, trainingMat, hwLabels, 3)\n",
    "#         print(\"the classifier came back with : %d, the real answer is: %d\"%(res, classNumStr))\n",
    "        if(res != classNumStr):\n",
    "            errorCnt += 1.0\n",
    "    print(\"the total number of errors is : %d\"%errorCnt)\n",
    "    print(\"the accuracy is : %f\"%(1 - errorCnt/float(mTest)))"
   ]
  },
  {
   "cell_type": "code",
   "execution_count": 15,
   "metadata": {},
   "outputs": [
    {
     "name": "stdout",
     "output_type": "stream",
     "text": [
      "the total number of errors is : 10\n",
      "the accuracy is : 0.989429\n"
     ]
    }
   ],
   "source": [
    "handwritingClassTest()"
   ]
  },
  {
   "cell_type": "code",
   "execution_count": 16,
   "metadata": {},
   "outputs": [],
   "source": [
    "def handwritingClassTest1():\n",
    "    hwLabels = []\n",
    "    trainingList = os.listdir('trainingDigits')\n",
    "    m = len(trainingList)\n",
    "    trainingMat = np.zeros((m, 1024))\n",
    "    for i in range(m):\n",
    "        fileNameStr = trainingList[i]\n",
    "        fileStr = fileNameStr.split('.')[0] #获取文件名\n",
    "        classNumStr = int(fileStr.split('_')[0])   #获取类别\n",
    "        hwLabels.append(classNumStr)\n",
    "        trainingMat[i, :] = img2vector('trainingDigits/%s'%fileNameStr)  #获取特征值\n",
    "    \n",
    "    testList = os.listdir('testDigits')\n",
    "    errorCnt = 0.0\n",
    "    mTest = len(testList)\n",
    "    for i in range(mTest):\n",
    "        fileNameStr = testList[i]\n",
    "        fileStr = fileNameStr.split('.')[0]\n",
    "        classNumStr = int(fileStr.split('_')[0])\n",
    "        classIndex = int(fileStr.split('_')[1])\n",
    "        testData = img2vector('testDigits/%s'%fileNameStr)\n",
    "        res = classify0(testData, trainingMat, hwLabels, 3)\n",
    "#         print(\"the classifier came back with : %d, the real answer is: %d\"%(res, classNumStr))\n",
    "        if(res != classNumStr):\n",
    "            errorCnt += 1.0\n",
    "            print(\"the wrong predict index is: %d\"%classIndex)\n",
    "            print(\"the classifier came back with : %d, the real answer is: %d\"%(res, classNumStr))\n",
    "    print(\"the total number of errors is : %d\"%errorCnt)\n",
    "    print(\"the accuracy is : %f\"%(1 - errorCnt/float(mTest)))"
   ]
  },
  {
   "cell_type": "code",
   "execution_count": 17,
   "metadata": {},
   "outputs": [
    {
     "name": "stdout",
     "output_type": "stream",
     "text": [
      "the wrong predict index is: 86\n",
      "the classifier came back with : 7, the real answer is: 1\n",
      "the wrong predict index is: 11\n",
      "the classifier came back with : 9, the real answer is: 3\n",
      "the wrong predict index is: 42\n",
      "the classifier came back with : 3, the real answer is: 5\n",
      "the wrong predict index is: 43\n",
      "the classifier came back with : 6, the real answer is: 5\n",
      "the wrong predict index is: 11\n",
      "the classifier came back with : 6, the real answer is: 8\n",
      "the wrong predict index is: 23\n",
      "the classifier came back with : 3, the real answer is: 8\n",
      "the wrong predict index is: 36\n",
      "the classifier came back with : 1, the real answer is: 8\n",
      "the wrong predict index is: 45\n",
      "the classifier came back with : 1, the real answer is: 8\n",
      "the wrong predict index is: 14\n",
      "the classifier came back with : 1, the real answer is: 9\n",
      "the wrong predict index is: 60\n",
      "the classifier came back with : 7, the real answer is: 9\n",
      "the total number of errors is : 10\n",
      "the accuracy is : 0.989429\n"
     ]
    }
   ],
   "source": [
    "handwritingClassTest1()"
   ]
  },
  {
   "cell_type": "code",
   "execution_count": 18,
   "metadata": {},
   "outputs": [],
   "source": [
    "# ![jupyter](./jupyter_logo.png)"
   ]
  },
  {
   "cell_type": "markdown",
   "metadata": {},
   "source": [
    "预测错误的数字"
   ]
  },
  {
   "cell_type": "markdown",
   "metadata": {},
   "source": [
    "预测为7，实际为1"
   ]
  },
  {
   "cell_type": "markdown",
   "metadata": {},
   "source": [
    "![jupyter](./1-86.jpg)"
   ]
  },
  {
   "cell_type": "markdown",
   "metadata": {},
   "source": [
    "预测为9，实际为3\n",
    "说实话，我真的看不出来是3"
   ]
  },
  {
   "cell_type": "markdown",
   "metadata": {},
   "source": [
    "![jupyter](./3-11.jpg)"
   ]
  },
  {
   "cell_type": "code",
   "execution_count": null,
   "metadata": {},
   "outputs": [],
   "source": []
  },
  {
   "cell_type": "code",
   "execution_count": null,
   "metadata": {},
   "outputs": [],
   "source": []
  }
 ],
 "metadata": {
  "kernelspec": {
   "display_name": "Python 3",
   "language": "python",
   "name": "python3"
  },
  "language_info": {
   "codemirror_mode": {
    "name": "ipython",
    "version": 3
   },
   "file_extension": ".py",
   "mimetype": "text/x-python",
   "name": "python",
   "nbconvert_exporter": "python",
   "pygments_lexer": "ipython3",
   "version": "3.6.7"
  }
 },
 "nbformat": 4,
 "nbformat_minor": 2
}
